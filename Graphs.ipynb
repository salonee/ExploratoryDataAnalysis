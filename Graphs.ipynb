{
 "cells": [
  {
   "cell_type": "code",
   "execution_count": 12,
   "metadata": {},
   "outputs": [],
   "source": [
    "#Import Modules and Libraries\n",
    "\n",
    "import numpy as np\n",
    "import pandas as pd\n",
    "import matplotlib.pyplot as plt\n",
    "import seaborn as sns\n",
    "import os\n",
    "#import pylab\n",
    "%matplotlib inline\n",
    "\n",
    "#Enter file name and clean the file\n",
    "\n",
    "df = pd.read_csv(\"attrition.csv\")"
   ]
  },
  {
   "cell_type": "code",
   "execution_count": 3,
   "metadata": {},
   "outputs": [
    {
     "data": {
      "text/html": [
       "<div>\n",
       "<style scoped>\n",
       "    .dataframe tbody tr th:only-of-type {\n",
       "        vertical-align: middle;\n",
       "    }\n",
       "\n",
       "    .dataframe tbody tr th {\n",
       "        vertical-align: top;\n",
       "    }\n",
       "\n",
       "    .dataframe thead th {\n",
       "        text-align: right;\n",
       "    }\n",
       "</style>\n",
       "<table border=\"1\" class=\"dataframe\">\n",
       "  <thead>\n",
       "    <tr style=\"text-align: right;\">\n",
       "      <th></th>\n",
       "      <th>Age</th>\n",
       "      <th>Attrition</th>\n",
       "      <th>BusinessTravel</th>\n",
       "      <th>Department</th>\n",
       "      <th>EducationField</th>\n",
       "      <th>EnvironmentSatisfaction</th>\n",
       "      <th>Gender</th>\n",
       "      <th>JobInvolvement</th>\n",
       "      <th>JobLevel</th>\n",
       "      <th>JobSatisfaction</th>\n",
       "      <th>MaritalStatus</th>\n",
       "      <th>MonthlyIncome</th>\n",
       "      <th>OverTime</th>\n",
       "      <th>TotalWorkingYears</th>\n",
       "      <th>WorkLifeBalance</th>\n",
       "      <th>YearsAtCompany</th>\n",
       "      <th>YearsInCurrentRole</th>\n",
       "      <th>YearsSinceLastPromotion</th>\n",
       "      <th>YearsWithCurrManager</th>\n",
       "      <th>DistanceFromHome</th>\n",
       "    </tr>\n",
       "  </thead>\n",
       "  <tbody>\n",
       "    <tr>\n",
       "      <th>0</th>\n",
       "      <td>41</td>\n",
       "      <td>1</td>\n",
       "      <td>Travel_Rarely</td>\n",
       "      <td>Sales</td>\n",
       "      <td>Life Sciences</td>\n",
       "      <td>2</td>\n",
       "      <td>Female</td>\n",
       "      <td>3</td>\n",
       "      <td>2</td>\n",
       "      <td>4</td>\n",
       "      <td>Single</td>\n",
       "      <td>5993</td>\n",
       "      <td>Yes</td>\n",
       "      <td>8</td>\n",
       "      <td>1</td>\n",
       "      <td>6</td>\n",
       "      <td>4</td>\n",
       "      <td>0</td>\n",
       "      <td>5</td>\n",
       "      <td>1</td>\n",
       "    </tr>\n",
       "    <tr>\n",
       "      <th>1</th>\n",
       "      <td>49</td>\n",
       "      <td>0</td>\n",
       "      <td>Travel_Frequently</td>\n",
       "      <td>Research &amp; Development</td>\n",
       "      <td>Life Sciences</td>\n",
       "      <td>3</td>\n",
       "      <td>Male</td>\n",
       "      <td>2</td>\n",
       "      <td>2</td>\n",
       "      <td>2</td>\n",
       "      <td>Married</td>\n",
       "      <td>5130</td>\n",
       "      <td>No</td>\n",
       "      <td>10</td>\n",
       "      <td>3</td>\n",
       "      <td>10</td>\n",
       "      <td>7</td>\n",
       "      <td>1</td>\n",
       "      <td>7</td>\n",
       "      <td>8</td>\n",
       "    </tr>\n",
       "    <tr>\n",
       "      <th>2</th>\n",
       "      <td>37</td>\n",
       "      <td>1</td>\n",
       "      <td>Travel_Rarely</td>\n",
       "      <td>Research &amp; Development</td>\n",
       "      <td>Other</td>\n",
       "      <td>4</td>\n",
       "      <td>Male</td>\n",
       "      <td>2</td>\n",
       "      <td>1</td>\n",
       "      <td>3</td>\n",
       "      <td>Single</td>\n",
       "      <td>2090</td>\n",
       "      <td>Yes</td>\n",
       "      <td>7</td>\n",
       "      <td>3</td>\n",
       "      <td>0</td>\n",
       "      <td>0</td>\n",
       "      <td>0</td>\n",
       "      <td>0</td>\n",
       "      <td>2</td>\n",
       "    </tr>\n",
       "    <tr>\n",
       "      <th>3</th>\n",
       "      <td>33</td>\n",
       "      <td>0</td>\n",
       "      <td>Travel_Frequently</td>\n",
       "      <td>Research &amp; Development</td>\n",
       "      <td>Life Sciences</td>\n",
       "      <td>4</td>\n",
       "      <td>Female</td>\n",
       "      <td>3</td>\n",
       "      <td>1</td>\n",
       "      <td>3</td>\n",
       "      <td>Married</td>\n",
       "      <td>2909</td>\n",
       "      <td>Yes</td>\n",
       "      <td>8</td>\n",
       "      <td>3</td>\n",
       "      <td>8</td>\n",
       "      <td>7</td>\n",
       "      <td>3</td>\n",
       "      <td>0</td>\n",
       "      <td>3</td>\n",
       "    </tr>\n",
       "    <tr>\n",
       "      <th>4</th>\n",
       "      <td>27</td>\n",
       "      <td>0</td>\n",
       "      <td>Travel_Rarely</td>\n",
       "      <td>Research &amp; Development</td>\n",
       "      <td>Medical</td>\n",
       "      <td>1</td>\n",
       "      <td>Male</td>\n",
       "      <td>3</td>\n",
       "      <td>1</td>\n",
       "      <td>2</td>\n",
       "      <td>Married</td>\n",
       "      <td>3468</td>\n",
       "      <td>No</td>\n",
       "      <td>6</td>\n",
       "      <td>3</td>\n",
       "      <td>2</td>\n",
       "      <td>2</td>\n",
       "      <td>2</td>\n",
       "      <td>2</td>\n",
       "      <td>2</td>\n",
       "    </tr>\n",
       "  </tbody>\n",
       "</table>\n",
       "</div>"
      ],
      "text/plain": [
       "   Age  Attrition     BusinessTravel              Department EducationField  \\\n",
       "0   41          1      Travel_Rarely                   Sales  Life Sciences   \n",
       "1   49          0  Travel_Frequently  Research & Development  Life Sciences   \n",
       "2   37          1      Travel_Rarely  Research & Development          Other   \n",
       "3   33          0  Travel_Frequently  Research & Development  Life Sciences   \n",
       "4   27          0      Travel_Rarely  Research & Development        Medical   \n",
       "\n",
       "   EnvironmentSatisfaction  Gender  JobInvolvement  JobLevel  JobSatisfaction  \\\n",
       "0                        2  Female               3         2                4   \n",
       "1                        3    Male               2         2                2   \n",
       "2                        4    Male               2         1                3   \n",
       "3                        4  Female               3         1                3   \n",
       "4                        1    Male               3         1                2   \n",
       "\n",
       "  MaritalStatus  MonthlyIncome OverTime  TotalWorkingYears  WorkLifeBalance  \\\n",
       "0        Single           5993      Yes                  8                1   \n",
       "1       Married           5130       No                 10                3   \n",
       "2        Single           2090      Yes                  7                3   \n",
       "3       Married           2909      Yes                  8                3   \n",
       "4       Married           3468       No                  6                3   \n",
       "\n",
       "   YearsAtCompany  YearsInCurrentRole  YearsSinceLastPromotion  \\\n",
       "0               6                   4                        0   \n",
       "1              10                   7                        1   \n",
       "2               0                   0                        0   \n",
       "3               8                   7                        3   \n",
       "4               2                   2                        2   \n",
       "\n",
       "   YearsWithCurrManager  DistanceFromHome  \n",
       "0                     5                 1  \n",
       "1                     7                 8  \n",
       "2                     0                 2  \n",
       "3                     0                 3  \n",
       "4                     2                 2  "
      ]
     },
     "execution_count": 3,
     "metadata": {},
     "output_type": "execute_result"
    }
   ],
   "source": [
    "df.head()"
   ]
  },
  {
   "cell_type": "code",
   "execution_count": 4,
   "metadata": {},
   "outputs": [
    {
     "data": {
      "text/plain": [
       "(1470, 20)"
      ]
     },
     "execution_count": 4,
     "metadata": {},
     "output_type": "execute_result"
    }
   ],
   "source": [
    "df.shape"
   ]
  },
  {
   "cell_type": "code",
   "execution_count": 5,
   "metadata": {},
   "outputs": [
    {
     "data": {
      "text/plain": [
       "Age                         int64\n",
       "Attrition                   int64\n",
       "BusinessTravel             object\n",
       "Department                 object\n",
       "EducationField             object\n",
       "EnvironmentSatisfaction     int64\n",
       "Gender                     object\n",
       "JobInvolvement              int64\n",
       "JobLevel                    int64\n",
       "JobSatisfaction             int64\n",
       "MaritalStatus              object\n",
       "MonthlyIncome               int64\n",
       "OverTime                   object\n",
       "TotalWorkingYears           int64\n",
       "WorkLifeBalance             int64\n",
       "YearsAtCompany              int64\n",
       "YearsInCurrentRole          int64\n",
       "YearsSinceLastPromotion     int64\n",
       "YearsWithCurrManager        int64\n",
       "DistanceFromHome            int64\n",
       "dtype: object"
      ]
     },
     "execution_count": 5,
     "metadata": {},
     "output_type": "execute_result"
    }
   ],
   "source": [
    "df.dtypes"
   ]
  },
  {
   "cell_type": "markdown",
   "metadata": {},
   "source": [
    "df['Cylinders'] = df.Cylinders.astype(object)\n",
    "df['Model'] = df.Model.astype(object)"
   ]
  },
  {
   "cell_type": "markdown",
   "metadata": {},
   "source": [
    "#separated numerical & Categorical data from attrition\n",
    "\n",
    "numerical_data= df.select_dtypes(include=[np.number]).columns\n",
    "categorical_data=df.select_dtypes(exclude=[np.number]).columns"
   ]
  },
  {
   "cell_type": "code",
   "execution_count": 6,
   "metadata": {},
   "outputs": [],
   "source": [
    "df['Attrition'] = df.Attrition.astype(object)\n",
    "df['EnvironmentSatisfaction'] = df.EnvironmentSatisfaction.astype(object)\n",
    "df['JobInvolvement'] = df.JobInvolvement.astype(object)\n",
    "df['JobSatisfaction'] = df.JobSatisfaction.astype(object)\n",
    "df['WorkLifeBalance'] = df.WorkLifeBalance.astype(object)\n",
    "df['JobLevel'] = df.JobLevel.astype(object)"
   ]
  },
  {
   "cell_type": "code",
   "execution_count": 7,
   "metadata": {},
   "outputs": [
    {
     "data": {
      "text/plain": [
       "Age                         int64\n",
       "Attrition                  object\n",
       "BusinessTravel             object\n",
       "Department                 object\n",
       "EducationField             object\n",
       "EnvironmentSatisfaction    object\n",
       "Gender                     object\n",
       "JobInvolvement             object\n",
       "JobLevel                   object\n",
       "JobSatisfaction            object\n",
       "MaritalStatus              object\n",
       "MonthlyIncome               int64\n",
       "OverTime                   object\n",
       "TotalWorkingYears           int64\n",
       "WorkLifeBalance            object\n",
       "YearsAtCompany              int64\n",
       "YearsInCurrentRole          int64\n",
       "YearsSinceLastPromotion     int64\n",
       "YearsWithCurrManager        int64\n",
       "DistanceFromHome            int64\n",
       "dtype: object"
      ]
     },
     "execution_count": 7,
     "metadata": {},
     "output_type": "execute_result"
    }
   ],
   "source": [
    "df.dtypes"
   ]
  },
  {
   "cell_type": "code",
   "execution_count": null,
   "metadata": {},
   "outputs": [],
   "source": []
  },
  {
   "cell_type": "code",
   "execution_count": null,
   "metadata": {},
   "outputs": [],
   "source": []
  },
  {
   "cell_type": "code",
   "execution_count": null,
   "metadata": {},
   "outputs": [],
   "source": []
  },
  {
   "cell_type": "markdown",
   "metadata": {},
   "source": [
    "# 1"
   ]
  },
  {
   "cell_type": "markdown",
   "metadata": {},
   "source": [
    "You will create a function named ‘Histogram’ which will take the entire dataset as input and  return the histograms for all the numerical variables in your dataset as .png files in your working  directory. Make sure that all the generated graphs have proper titles and axis labels. (10 marks) \n",
    "\n",
    "Histogram(data)  \n",
    "-> returns histograms for all numerical variables in data. \n"
   ]
  },
  {
   "cell_type": "code",
   "execution_count": null,
   "metadata": {},
   "outputs": [],
   "source": [
    "def histogram(data):\n",
    "    for i in df:                                           #the loop starts for every column in dataframe\n",
    "        if df[i].dtype == 'int64':                         #if the column is numerical type\n",
    "            plt.hist(df[i],color='green')                  #plot a histogram for the column\n",
    "            plt.title(i)                                   #provide title of the histogram as the column name\n",
    "            plt.xlabel(i)                                  #provide the x axis label of the histogram as the column name\n",
    "            plt.ylabel('count')                            #provide the y axis label of the histogram as 'count'  \n",
    "            plt.tight_layout()                             #automatically adjusts subplot params so that the subplot(s) fits in to the figure area\n",
    "            plt.savefig('histogram_{}.png'.format(i))      #saves the figure in present working directory\n",
    "            plt.show()                                     #opens an interactive window and displays the active image object (of the current column)"
   ]
  },
  {
   "cell_type": "code",
   "execution_count": null,
   "metadata": {},
   "outputs": [],
   "source": [
    "histogram(df)                                              #call the function and pass the dataset"
   ]
  },
  {
   "cell_type": "markdown",
   "metadata": {},
   "source": [
    "# 2"
   ]
  },
  {
   "cell_type": "markdown",
   "metadata": {},
   "source": [
    "Make an improvement on the function you have created in 1. Create a function names ‘Graphs’ which will take a dataset as input and return histograms and boxplots for all the numerical  variables and bar plots for all categorical variables. (10 marks) \n",
    "\n",
    "Graphs(data) \n",
    "\n",
    "-> returns histograms and boxplots for all numerical variables and  bar plot for all categorical variables in data.\n"
   ]
  },
  {
   "cell_type": "code",
   "execution_count": null,
   "metadata": {},
   "outputs": [],
   "source": [
    "def graphs(data):\n",
    "    \n",
    "    #divide the data as numerical and categorical\n",
    "    numerical_data= data.select_dtypes(include=[np.number]).columns             \n",
    "    categorical_data=data.select_dtypes(exclude=[np.number]).columns\n",
    "    \n",
    "    #plots graphs for numerical and categorical data in present working directory\n",
    "        \n",
    "    for i in numerical_data:                          #iterates through the dataframe columns for all numerical data\n",
    "        print(i)\n",
    "        plt.hist(data[i],color='green')\n",
    "        plt.title(i)\n",
    "        plt.xlabel(i)\n",
    "        plt.ylabel('count')\n",
    "        plt.tight_layout()                             #automatically adjusts subplot params so that the subplot(s) fits in to the figure area\n",
    "        plt.savefig('histogram_{}.png'.format(i))      #saves the figure in present working directory\n",
    "        plt.show()                                     #opens an interactive window and displays the active image object (of the current column)\n",
    "    \n",
    "    for j in numerical_data:\n",
    "        print(j)\n",
    "        plt.boxplot(data[j])\n",
    "        plt.title(j)\n",
    "        plt.xlabel(j)\n",
    "        plt.ylabel('count')\n",
    "        plt.tight_layout()                             #automatically adjusts subplot params so that the subplot(s) fits in to the figure area\n",
    "        plt.savefig('boxplot_{}.png'.format(j))        #saves the figure in present working directory\n",
    "        plt.show()                                     #opens an interactive window and displays the active image object (of the current column) \n",
    "    \n",
    "    for k in categorical_data:                         #iterates through the dataframe columns for all the categorical data\n",
    "        print(k)\n",
    "        sns.countplot(data[k])\n",
    "        plt.tight_layout()                             #automatically adjusts subplot params so that the subplot(s) fits in to the figure area\n",
    "        plt.savefig('barplot_{}.png'.format(k))        #saves the figure in present working directory\n",
    "        plt.show()                                     #opens an interactive window and displays the active image object (of the current column)\n",
    "        \n"
   ]
  },
  {
   "cell_type": "code",
   "execution_count": null,
   "metadata": {},
   "outputs": [],
   "source": [
    "graphs(df)"
   ]
  },
  {
   "cell_type": "markdown",
   "metadata": {},
   "source": [
    "# 3\n",
    "\n",
    "Often, we are not required to plot the graphs for all the variables in our dataset. Add an additional  argument to the function in 2 named ‘var’. This will take a list containing the variable index and  return the graphs for only those variables. By default, (i.e. if the list of variable index is not  provided), then it must return the required graphs for all the variables in data. \n",
    "\n",
    "Example:  \n",
    "\n",
    "Graphs(data, var=c(1,3,4)) \n",
    "\n",
    "-> Will generate the graphics for only the variables 1,3 & 4 in the  data.\n"
   ]
  },
  {
   "cell_type": "code",
   "execution_count": 8,
   "metadata": {},
   "outputs": [],
   "source": [
    "def graphs(data, var):\n",
    "\n",
    "#############################################################################################################    \n",
    "\n",
    "#This is for the second argument passed in the function i.e. variables for which we want to display the charts\n",
    "\n",
    "            l = var               \n",
    "            \n",
    "#############################################################################################################\n",
    "\n",
    "#Take these variables into another dataframe called data_2 and categorise the data as numerical and categorical\n",
    "    \n",
    "            data_2 = data.iloc[:,l]\n",
    "            numerical_data= data_2.select_dtypes(include=[np.number]).columns\n",
    "            categorical_data=data_2.select_dtypes(exclude=[np.number]).columns\n",
    "\n",
    "#############################################################################################################\n",
    "\n",
    "#Generate charts - histogram and boxplot for numerical data and bar plot for categorical data\n",
    "        \n",
    "            for i in numerical_data:\n",
    "                print(i)\n",
    "                plt.hist(data_2[i],color='green')\n",
    "                plt.title(i)\n",
    "                plt.xlabel(i)\n",
    "                plt.ylabel('count')\n",
    "                plt.tight_layout()                             #automatically adjusts subplot params so that the subplot(s) fits in to the figure area\n",
    "                plt.savefig('boxplot_{}.png'.format(i))        #saves the figure in present working directory\n",
    "                plt.show()                                     #opens an interactive window and displays the active image object (of the current column) \n",
    "     \n",
    "                \n",
    "            for j in numerical_data:\n",
    "                print(j)\n",
    "                plt.boxplot(data_2[j])\n",
    "                plt.title(j)\n",
    "                plt.xlabel(j)\n",
    "                plt.ylabel('count')\n",
    "                plt.tight_layout()                             #automatically adjusts subplot params so that the subplot(s) fits in to the figure area\n",
    "                plt.savefig('boxplot_{}.png'.format(j))        #saves the figure in present working directory\n",
    "                plt.show()                                     #opens an interactive window and displays the active image object (of the current column) \n",
    "    \n",
    "                \n",
    "            for k in categorical_data:\n",
    "                print(k)\n",
    "                sns.countplot(data_2[k])\n",
    "                plt.tight_layout()                             #automatically adjusts subplot params so that the subplot(s) fits in to the figure area\n",
    "                plt.savefig('barplot_{}.png'.format(k))        #saves the figure in present working directory\n",
    "                plt.show()                                     #opens an interactive window and displays the active image object (of the current column) \n",
    "    \n",
    "            "
   ]
  },
  {
   "cell_type": "code",
   "execution_count": 9,
   "metadata": {},
   "outputs": [
    {
     "name": "stdout",
     "output_type": "stream",
     "text": [
      "Age\n"
     ]
    },
    {
     "data": {
      "image/png": "[encoded data removed]",
      "text/plain": [
       "<Figure size 432x288 with 1 Axes>"
      ]
     },
     "metadata": {
      "needs_background": "light"
     },
     "output_type": "display_data"
    },
    {
     "name": "stdout",
     "output_type": "stream",
     "text": [
      "Age\n"
     ]
    },
    {
     "data": {
      "image/png": "[encoded data removed]",
      "text/plain": [
       "<Figure size 432x288 with 1 Axes>"
      ]
     },
     "metadata": {
      "needs_background": "light"
     },
     "output_type": "display_data"
    },
    {
     "name": "stdout",
     "output_type": "stream",
     "text": [
      "Attrition\n"
     ]
    },
    {
     "data": {
      "image/png": "[encoded data removed]",
      "text/plain": [
       "<Figure size 432x288 with 1 Axes>"
      ]
     },
     "metadata": {
      "needs_background": "light"
     },
     "output_type": "display_data"
    },
    {
     "name": "stdout",
     "output_type": "stream",
     "text": [
      "BusinessTravel\n"
     ]
    },
    {
     "data": {
      "image/png": "[encoded data removed]",
      "text/plain": [
       "<Figure size 432x288 with 1 Axes>"
      ]
     },
     "metadata": {
      "needs_background": "light"
     },
     "output_type": "display_data"
    }
   ],
   "source": [
    "graphs(df, [1,0,2])"
   ]
  },
  {
   "cell_type": "markdown",
   "metadata": {},
   "source": [
    "# 4\n",
    "\n",
    "Sometimes, we do not want to mess up our working directories with so many image files. Create  an additional argument for the function \"dir\" (directory), such that the function exports all the  files to that specified folder (which need not necessarily be your working directory). (10 marks) \n",
    "\n",
    "Example: \n",
    "\n",
    "Graphs(data, Variable=c(1,3,4), dir=\".../Praxis/Graphs\") \n",
    "-> will generate all the necessary graphics for the variables 1, 3  and 4 in the specified location in your system which is \".../Praxis/ Graphs\"\n"
   ]
  },
  {
   "cell_type": "code",
   "execution_count": 10,
   "metadata": {},
   "outputs": [],
   "source": [
    "def graphs(data, var, my_path):\n",
    "\n",
    "#############################################################################################################    \n",
    "\n",
    "#This is for the second argument passed in the function i.e. variables for which we want to display the charts\n",
    "\n",
    "            l = var           \n",
    "            \n",
    "#############################################################################################################\n",
    "\n",
    "#Take these variables into another dataframe called data_2 and categorise the data as numerical and categorical\n",
    "    \n",
    "            data_2 = data.iloc[:,l]\n",
    "            numerical_data= data_2.select_dtypes(include=[np.number]).columns\n",
    "            categorical_data=data_2.select_dtypes(exclude=[np.number]).columns\n",
    "\n",
    "#Check if the folder exists, create if it doesn't\n",
    "\n",
    "            if not os.path.exists(my_path):\n",
    "                print(\"The folder does not exist. We have created the folder.\")\n",
    "                os.makedirs(my_path)\n",
    "\n",
    "#############################################################################################################\n",
    "\n",
    "#Generate charts - histogram and boxplot for numerical data and bar plot for categorical data\n",
    "        \n",
    "        \n",
    "            #for all the numerical data in the dataset and from our selected indexes plot all the histograms\n",
    "            for i in numerical_data:\n",
    "                #print the name of the column\n",
    "                print(i)\n",
    "                #plot the histogram and provide correct labels\n",
    "                plt.hist(data_2[i],color='green')\n",
    "                plt.title(i)\n",
    "                plt.xlabel(i)\n",
    "                plt.ylabel('count')\n",
    "                #save images of each plot in the path entered while using the function\n",
    "                #each image is stored with chart type and column name\n",
    "                plt.savefig(my_path+'Histogram_{}.png'.format(i))\n",
    "                plt.show() \n",
    "                \n",
    "            for j in numerical_data:\n",
    "                print(j)\n",
    "                plt.boxplot(data_2[i])\n",
    "                plt.title(j)\n",
    "                plt.xlabel(j)\n",
    "                plt.ylabel('count')\n",
    "                plt.savefig(my_path+'Boxplot_{}.png'.format(j))\n",
    "                plt.show() \n",
    "                \n",
    "            for k in categorical_data:\n",
    "                print(k)\n",
    "                sns.countplot(data_2[k])\n",
    "                plt.savefig(my_path+'Barplot_{}.png'.format(k))\n",
    "                plt.show()\n",
    "\n",
    "#############################################################################################################\n",
    "\n",
    "#save the chart\n",
    "                                    \n",
    "            #last message to show that the program has run and the path of the stored images \n",
    "            print(\"\\nYour file is saved in path: \", my_path)\n",
    "            \n",
    "           "
   ]
  },
  {
   "cell_type": "code",
   "execution_count": 11,
   "metadata": {},
   "outputs": [
    {
     "name": "stdout",
     "output_type": "stream",
     "text": [
      "The folder does not exist. We have created the folder.\n",
      "MonthlyIncome\n"
     ]
    },
    {
     "data": {
      "image/png": "[encoded data removed]",
      "text/plain": [
       "<Figure size 432x288 with 1 Axes>"
      ]
     },
     "metadata": {
      "needs_background": "light"
     },
     "output_type": "display_data"
    },
    {
     "name": "stdout",
     "output_type": "stream",
     "text": [
      "Age\n"
     ]
    },
    {
     "data": {
      "image/png": "[encoded data removed]",
      "text/plain": [
       "<Figure size 432x288 with 1 Axes>"
      ]
     },
     "metadata": {
      "needs_background": "light"
     },
     "output_type": "display_data"
    },
    {
     "name": "stdout",
     "output_type": "stream",
     "text": [
      "DistanceFromHome\n"
     ]
    },
    {
     "data": {
      "image/png": "[encoded data removed]",
      "text/plain": [
       "<Figure size 432x288 with 1 Axes>"
      ]
     },
     "metadata": {
      "needs_background": "light"
     },
     "output_type": "display_data"
    },
    {
     "name": "stdout",
     "output_type": "stream",
     "text": [
      "MonthlyIncome\n"
     ]
    },
    {
     "data": {
      "image/png": "[encoded data removed]",
      "text/plain": [
       "<Figure size 432x288 with 1 Axes>"
      ]
     },
     "metadata": {
      "needs_background": "light"
     },
     "output_type": "display_data"
    },
    {
     "name": "stdout",
     "output_type": "stream",
     "text": [
      "Age\n"
     ]
    },
    {
     "data": {
      "image/png": "[encoded data removed]",
      "text/plain": [
       "<Figure size 432x288 with 1 Axes>"
      ]
     },
     "metadata": {
      "needs_background": "light"
     },
     "output_type": "display_data"
    },
    {
     "name": "stdout",
     "output_type": "stream",
     "text": [
      "DistanceFromHome\n"
     ]
    },
    {
     "data": {
      "image/png": "[encoded data removed]",
      "text/plain": [
       "<Figure size 432x288 with 1 Axes>"
      ]
     },
     "metadata": {
      "needs_background": "light"
     },
     "output_type": "display_data"
    },
    {
     "name": "stdout",
     "output_type": "stream",
     "text": [
      "Attrition\n"
     ]
    },
    {
     "data": {
      "image/png": "[encoded data removed]",
      "text/plain": [
       "<Figure size 432x288 with 1 Axes>"
      ]
     },
     "metadata": {
      "needs_background": "light"
     },
     "output_type": "display_data"
    },
    {
     "name": "stdout",
     "output_type": "stream",
     "text": [
      "MaritalStatus\n"
     ]
    },
    {
     "data": {
      "image/png": "[encoded data removed]",
      "text/plain": [
       "<Figure size 432x288 with 1 Axes>"
      ]
     },
     "metadata": {
      "needs_background": "light"
     },
     "output_type": "display_data"
    },
    {
     "name": "stdout",
     "output_type": "stream",
     "text": [
      "Department\n"
     ]
    },
    {
     "data": {
      "image/png": "[encoded data removed]",
      "text/plain": [
       "<Figure size 432x288 with 1 Axes>"
      ]
     },
     "metadata": {
      "needs_background": "light"
     },
     "output_type": "display_data"
    },
    {
     "name": "stdout",
     "output_type": "stream",
     "text": [
      "\n",
      "Your file is saved in path:  C:/Users/HP/Desktop/CHARTS/\n"
     ]
    }
   ],
   "source": [
    "graphs(df, var = [1,11,10,3,0,19],  my_path = \"C:/Users/HP/Desktop/CHARTS/\")"
   ]
  },
  {
   "cell_type": "code",
   "execution_count": null,
   "metadata": {},
   "outputs": [],
   "source": [
    "df.dtypes"
   ]
  },
  {
   "cell_type": "markdown",
   "metadata": {},
   "source": [
    "# 5"
   ]
  },
  {
   "cell_type": "markdown",
   "metadata": {},
   "source": [
    "Further Improvements: Create at least 2 more features of this function which you think can  benefit you in your EDA process. (20 marks) \n"
   ]
  },
  {
   "cell_type": "code",
   "execution_count": 54,
   "metadata": {},
   "outputs": [],
   "source": [
    "# FEATURE 1 - It's always good to have everything at one place. Hence, I have created a function that would prompt the \n",
    "# user to input the indexes of the dataset. \n",
    "\n",
    "# FEATURE 2 - The user can view all the columns and their index numbers of the dataset from the function graphs()\n",
    "\n",
    "# FEATURE 3 - If the given path does not exist in the computer then it would be created through our code. \n",
    "\n",
    "# FEATURE 4 - Check missing values\n",
    "\n",
    "\n",
    "def pass_index():                                                                                      #FEATURE 1                                  \n",
    "    \n",
    "            a = ''\n",
    "            index_list = [ ]\n",
    "            print(\"\\nEnter the index of variable that you want to analyse. Enter 'done' to stop the input.\")\n",
    "\n",
    "            while a != \"done\":    \n",
    "                        a = input(\"\\nEnter the index number: \")\n",
    "                        if a != \"done\":\n",
    "                            index_list.append(a)\n",
    "                        else:\n",
    "                            #print(index_list)\n",
    "                            break\n",
    "                        #print(index_list)\n",
    "\n",
    "            for k in range(0, len(index_list)):\n",
    "                        index_list[k] = int(index_list[k])\n",
    "                \n",
    "\n",
    "            return(index_list)                \n",
    "                \n",
    "\n",
    "def graphs(data, my_path):\n",
    "    \n",
    "############################################################################################################\n",
    "\n",
    "#print the count of missing values in each variable of the data\n",
    "            print(\"List of missing values\\n\")\n",
    "    \n",
    "            total = df.isnull().sum().sort_values(ascending=False)                                   #FEATURE 4\n",
    "            print(total)\n",
    "\n",
    "\n",
    "############################################################################################################\n",
    "\n",
    "#prints the column names (variables) and their indexes in the dataset\n",
    "            print(\"\\nPlease view the index of each column for input information:\\n\")                #FEATURE 2\n",
    "            for i in range(0,df.shape[1]):\n",
    "                print(i, \"-\" , df.columns[i])\n",
    "\n",
    "#############################################################################################################    \n",
    "\n",
    "#This is for the second argument passed in the function i.e. variables for which we want to display the charts\n",
    "\n",
    "            \n",
    "            l = pass_index() \n",
    "            \n",
    "#############################################################################################################\n",
    "\n",
    "#Take these variables into another dataframe called data_2 and categorise the data as numerical and categorical\n",
    "    \n",
    "            data_2 = data.iloc[:,l]\n",
    "            numerical_data= data_2.select_dtypes(include=[np.number]).columns\n",
    "            categorical_data=data_2.select_dtypes(exclude=[np.number]).columns\n",
    "\n",
    "#Check if the folder exists, create if it doesn't.                                                  #FEATURE 3\n",
    "\n",
    "            if not os.path.exists(my_path):                                                         \n",
    "                print(\"The folder does not exist. We have created the folder.\")\n",
    "                os.makedirs(my_path)\n",
    "\n",
    "#############################################################################################################\n",
    "\n",
    "#Generate charts - histogram and boxplot for numerical data and bar plot for categorical data\n",
    "        \n",
    "        \n",
    "            #for all the numerical data in the dataset and from our selected indexes plot all the histograms\n",
    "            for i in numerical_data:\n",
    "                #print the name of the column\n",
    "                print(i)\n",
    "                #plot the histogram and provide correct labels\n",
    "                plt.hist(data_2[i],color='green')\n",
    "                plt.title(i)\n",
    "                plt.xlabel(i)\n",
    "                plt.ylabel('count')\n",
    "                #save images of each plot in the path entered while using the function\n",
    "                #each image is stored with chart type and column name\n",
    "                plt.savefig(my_path+'Histogram_{}.png'.format(i))\n",
    "                plt.show() \n",
    "                \n",
    "            for j in numerical_data:\n",
    "                print(j)\n",
    "                plt.boxplot(data_2[j])\n",
    "                plt.title(j)\n",
    "                plt.xlabel(j)\n",
    "                plt.ylabel('count')\n",
    "                plt.savefig(my_path+'Boxplot_{}.png'.format(j))\n",
    "                plt.show() \n",
    "                \n",
    "            for k in categorical_data:\n",
    "                print(k)\n",
    "                sns.countplot(data_2[k])\n",
    "                plt.savefig(my_path+'Barplot_{}.png'.format(k))\n",
    "                plt.show()\n",
    "\n",
    "#############################################################################################################\n",
    "\n",
    "#save the chart\n",
    "                                    \n",
    "            #last message to show that the program has run and the path of the stored images \n",
    "            print(\"\\nYour file is saved in path: \", my_path)\n",
    "            print(\"\\n\\n\\n\\n\")\n",
    "\n",
    "           "
   ]
  },
  {
   "cell_type": "code",
   "execution_count": 55,
   "metadata": {},
   "outputs": [
    {
     "name": "stdout",
     "output_type": "stream",
     "text": [
      "List of missing values\n",
      "\n",
      "DistanceFromHome           0\n",
      "YearsWithCurrManager       0\n",
      "Attrition                  0\n",
      "BusinessTravel             0\n",
      "Department                 0\n",
      "EducationField             0\n",
      "EnvironmentSatisfaction    0\n",
      "Gender                     0\n",
      "JobInvolvement             0\n",
      "JobLevel                   0\n",
      "JobSatisfaction            0\n",
      "MaritalStatus              0\n",
      "MonthlyIncome              0\n",
      "OverTime                   0\n",
      "TotalWorkingYears          0\n",
      "WorkLifeBalance            0\n",
      "YearsAtCompany             0\n",
      "YearsInCurrentRole         0\n",
      "YearsSinceLastPromotion    0\n",
      "Age                        0\n",
      "dtype: int64\n",
      "\n",
      "Please view the index of each column for input information:\n",
      "\n",
      "0 - Age\n",
      "1 - Attrition\n",
      "2 - BusinessTravel\n",
      "3 - Department\n",
      "4 - EducationField\n",
      "5 - EnvironmentSatisfaction\n",
      "6 - Gender\n",
      "7 - JobInvolvement\n",
      "8 - JobLevel\n",
      "9 - JobSatisfaction\n",
      "10 - MaritalStatus\n",
      "11 - MonthlyIncome\n",
      "12 - OverTime\n",
      "13 - TotalWorkingYears\n",
      "14 - WorkLifeBalance\n",
      "15 - YearsAtCompany\n",
      "16 - YearsInCurrentRole\n",
      "17 - YearsSinceLastPromotion\n",
      "18 - YearsWithCurrManager\n",
      "19 - DistanceFromHome\n",
      "\n",
      "Enter the index of variable that you want to analyse. Enter 'done' to stop the input.\n",
      "\n",
      "Enter the index number: 0\n",
      "\n",
      "Enter the index number: 6\n",
      "\n",
      "Enter the index number: 19\n",
      "\n",
      "Enter the index number: done\n",
      "The folder does not exist. We have created the folder.\n",
      "Age\n"
     ]
    },
    {
     "data": {
      "image/png": "[encoded data removed]",
      "text/plain": [
       "<Figure size 432x288 with 1 Axes>"
      ]
     },
     "metadata": {
      "needs_background": "light"
     },
     "output_type": "display_data"
    },
    {
     "name": "stdout",
     "output_type": "stream",
     "text": [
      "DistanceFromHome\n"
     ]
    },
    {
     "data": {
      "image/png": "[encoded data removed]",
      "text/plain": [
       "<Figure size 432x288 with 1 Axes>"
      ]
     },
     "metadata": {
      "needs_background": "light"
     },
     "output_type": "display_data"
    },
    {
     "name": "stdout",
     "output_type": "stream",
     "text": [
      "Age\n"
     ]
    },
    {
     "data": {
      "image/png": "[encoded data removed]",
      "text/plain": [
       "<Figure size 432x288 with 1 Axes>"
      ]
     },
     "metadata": {
      "needs_background": "light"
     },
     "output_type": "display_data"
    },
    {
     "name": "stdout",
     "output_type": "stream",
     "text": [
      "DistanceFromHome\n"
     ]
    },
    {
     "data": {
      "image/png": "[encoded data removed]",
      "text/plain": [
       "<Figure size 432x288 with 1 Axes>"
      ]
     },
     "metadata": {
      "needs_background": "light"
     },
     "output_type": "display_data"
    },
    {
     "name": "stdout",
     "output_type": "stream",
     "text": [
      "Gender\n"
     ]
    },
    {
     "data": {
      "image/png": "[encoded data removed]",
      "text/plain": [
       "<Figure size 432x288 with 1 Axes>"
      ]
     },
     "metadata": {
      "needs_background": "light"
     },
     "output_type": "display_data"
    },
    {
     "name": "stdout",
     "output_type": "stream",
     "text": [
      "\n",
      "Your file is saved in path:  C:/Users/HP/Desktop/CHARTS/CHARTS_3/\n",
      "\n",
      "\n",
      "\n",
      "\n",
      "\n"
     ]
    }
   ],
   "source": [
    "graphs(df, my_path = \"C:/Users/HP/Desktop/CHARTS/CHARTS_3/\")"
   ]
  },
  {
   "cell_type": "code",
   "execution_count": 56,
   "metadata": {},
   "outputs": [],
   "source": [
    "def pass_index():                                                                                      #FEATURE 1                                  \n",
    "    \n",
    "            a = ''\n",
    "            index_list = [ ]\n",
    "            print(\"\\nEnter the index of variable that you want to analyse. Enter 'done' to stop the input.\")\n",
    "\n",
    "            while a != \"done\":    \n",
    "                        a = input(\"\\nEnter the index number: \")\n",
    "                        if a != \"done\":\n",
    "                            index_list.append(a)\n",
    "                        else:\n",
    "                            #print(index_list)\n",
    "                            break\n",
    "                        #print(index_list)\n",
    "\n",
    "            for k in range(0, len(index_list)):\n",
    "                        index_list[k] = int(index_list[k])\n",
    "                \n",
    "\n",
    "            return(index_list) "
   ]
  },
  {
   "cell_type": "code",
   "execution_count": 57,
   "metadata": {},
   "outputs": [
    {
     "name": "stdout",
     "output_type": "stream",
     "text": [
      "\n",
      "Enter the index of variable that you want to analyse. Enter 'done' to stop the input.\n",
      "\n",
      "Enter the index number: done\n"
     ]
    },
    {
     "data": {
      "text/plain": [
       "[]"
      ]
     },
     "execution_count": 57,
     "metadata": {},
     "output_type": "execute_result"
    }
   ],
   "source": [
    "pass_index()"
   ]
  },
  {
   "cell_type": "code",
   "execution_count": 58,
   "metadata": {},
   "outputs": [
    {
     "ename": "NameError",
     "evalue": "name 'index_list' is not defined",
     "output_type": "error",
     "traceback": [
      "\u001b[1;31m---------------------------------------------------------------------------\u001b[0m",
      "\u001b[1;31mNameError\u001b[0m                                 Traceback (most recent call last)",
      "\u001b[1;32m<ipython-input-58-8eef02744124>\u001b[0m in \u001b[0;36m<module>\u001b[1;34m\u001b[0m\n\u001b[1;32m----> 1\u001b[1;33m \u001b[0mtype\u001b[0m\u001b[1;33m(\u001b[0m\u001b[0mindex_list\u001b[0m\u001b[1;33m)\u001b[0m\u001b[1;33m\u001b[0m\u001b[1;33m\u001b[0m\u001b[0m\n\u001b[0m",
      "\u001b[1;31mNameError\u001b[0m: name 'index_list' is not defined"
     ]
    }
   ],
   "source": [
    "type(index_list)"
   ]
  },
  {
   "cell_type": "code",
   "execution_count": null,
   "metadata": {},
   "outputs": [],
   "source": []
  },
  {
   "cell_type": "code",
   "execution_count": null,
   "metadata": {},
   "outputs": [],
   "source": []
  },
  {
   "cell_type": "code",
   "execution_count": null,
   "metadata": {},
   "outputs": [],
   "source": []
  },
  {
   "cell_type": "code",
   "execution_count": null,
   "metadata": {},
   "outputs": [],
   "source": []
  },
  {
   "cell_type": "code",
   "execution_count": null,
   "metadata": {},
   "outputs": [],
   "source": []
  },
  {
   "cell_type": "code",
   "execution_count": null,
   "metadata": {},
   "outputs": [],
   "source": []
  },
  {
   "cell_type": "code",
   "execution_count": null,
   "metadata": {},
   "outputs": [],
   "source": []
  },
  {
   "cell_type": "code",
   "execution_count": null,
   "metadata": {},
   "outputs": [],
   "source": []
  },
  {
   "cell_type": "code",
   "execution_count": null,
   "metadata": {},
   "outputs": [],
   "source": []
  }
 ],
 "metadata": {
  "kernelspec": {
   "display_name": "Python 3",
   "language": "python",
   "name": "python3"
  },
  "language_info": {
   "codemirror_mode": {
    "name": "ipython",
    "version": 3
   },
   "file_extension": ".py",
   "mimetype": "text/x-python",
   "name": "python",
   "nbconvert_exporter": "python",
   "pygments_lexer": "ipython3",
   "version": "3.8.3"
  }
 },
 "nbformat": 4,
 "nbformat_minor": 4
}
